{
 "cells": [
  {
   "cell_type": "code",
   "execution_count": null,
   "metadata": {
    "collapsed": true
   },
   "outputs": [],
   "source": [
    "%matplotlib notebook\n",
    "import matplotlib.pyplot as plt\n",
    "import time\n",
    "import networkx as nx\n",
    "import numpy as np\n",
    "from copy import deepcopy\n",
    "from pprint import pprint\n",
    "from tqdm import tqdm\n",
    "import random\n",
    "from collections import Counter\n",
    "import os\n",
    "import pickle"
   ]
  },
  {
   "cell_type": "markdown",
   "metadata": {},
   "source": [
    "### Preprocessing\n",
    "\n",
    "Reading in the graph and removing nodes with degree of 2, but keeping connectivity. Removes nodes not part of the large component, and adds attributes 'weight' and 'flow' to edges, all equal to 1."
   ]
  },
  {
   "cell_type": "code",
   "execution_count": null,
   "metadata": {
    "collapsed": true
   },
   "outputs": [],
   "source": [
    "# //TODO: Change path to file, but keep name \"australia\" even if it is, in fact, not Australia\n",
    "australia = nx.read_gpickle('australia.gpickle')"
   ]
  },
  {
   "cell_type": "code",
   "execution_count": null,
   "metadata": {
    "collapsed": true
   },
   "outputs": [],
   "source": [
    "def remove_useless_nodes(G):\n",
    "    \"\"\"\n",
    "    Removes (in-place) nodes with degree 2 but preserves connectivity\n",
    "    \"\"\"\n",
    "    while list(dict(G.degree()).values()).count(2):\n",
    "        deg = dict(G.degree())\n",
    "        for node in deg:\n",
    "            if deg[node] == 2:\n",
    "                neigh = list(G.neighbors(node))\n",
    "                if len(neigh) == 1:\n",
    "                    break\n",
    "                G.add_edge(neigh[0], neigh[1])\n",
    "                G.remove_node(node)\n",
    "    return G"
   ]
  },
  {
   "cell_type": "code",
   "execution_count": null,
   "metadata": {
    "collapsed": true
   },
   "outputs": [],
   "source": [
    "new_aus = deepcopy(australia)\n",
    "new_aus = remove_useless_nodes(new_aus)\n",
    "G = None\n",
    "best = 0\n",
    "for x in nx.connected_component_subgraphs(new_aus):\n",
    "    size = len(x.nodes)\n",
    "    if size > best:\n",
    "        best = size\n",
    "        G = x\n",
    "nx.set_edge_attributes(G, 1, 'weight')\n",
    "nx.set_edge_attributes(G, 1, 'flow')"
   ]
  },
  {
   "cell_type": "markdown",
   "metadata": {},
   "source": [
    "### Betweenness\n",
    "\n",
    "The most central nodes are on the long roads through the desert seperating west and east"
   ]
  },
  {
   "cell_type": "code",
   "execution_count": null,
   "metadata": {
    "collapsed": false
   },
   "outputs": [],
   "source": [
    "# cheap estimation of betweenness\n",
    "betweenness = nx.betweenness_centrality(new_aus, k=50)\n",
    "bet = [[a,b] for b,a in betweenness.items()]\n",
    "bet.sort(reverse=True)\n",
    "bet[:5]"
   ]
  },
  {
   "cell_type": "markdown",
   "metadata": {},
   "source": [
    "### Average path length estimation"
   ]
  },
  {
   "cell_type": "code",
   "execution_count": null,
   "metadata": {
    "collapsed": true,
    "scrolled": true
   },
   "outputs": [],
   "source": [
    "def mean(s):\n",
    "    return sum(s) / len(s)\n",
    "\n",
    "def estimate_ave_path_length(G, N):\n",
    "    means = []\n",
    "    running_mean = []\n",
    "    nodes = list(G.nodes)\n",
    "    nodes = random.sample(nodes, N)\n",
    "    for node in tqdm(nodes):\n",
    "        new = list(nx.single_source_dijkstra_path_length(G, node).values())\n",
    "        means.append(mean(new))\n",
    "        running_mean.append(mean(means))\n",
    "    return running_mean[-1], running_mean"
   ]
  },
  {
   "cell_type": "code",
   "execution_count": null,
   "metadata": {
    "collapsed": false
   },
   "outputs": [],
   "source": [
    "est, prog = estimate_ave_path_length(G, 500)\n",
    "plt.plot(range(len(prog)),prog)\n",
    "plt.show()\n",
    "print(est)"
   ]
  },
  {
   "cell_type": "markdown",
   "metadata": {},
   "source": [
    "### Some properties of the network"
   ]
  },
  {
   "cell_type": "code",
   "execution_count": null,
   "metadata": {
    "collapsed": false
   },
   "outputs": [],
   "source": [
    "print('Number of nodes: {}'.format(len(G.nodes)))\n",
    "print('Average path length: {}'.format(est))\n",
    "print('Clustering coefficient: {}'.format(nx.average_clustering(G)))\n",
    "print('Degree distribution:', end=' ')\n",
    "pprint(dict(Counter(list(dict(G.degree).values()))))\n",
    "print('Average degree: {}'.format(mean(dict(G.degree).values())))\n"
   ]
  },
  {
   "cell_type": "code",
   "execution_count": null,
   "metadata": {
    "collapsed": false
   },
   "outputs": [],
   "source": [
    "deg = dict(G.degree)\n",
    "m = max(deg.values())\n",
    "for key in deg:\n",
    "    if deg[key]==m:\n",
    "        print('Coordinates of node with largest degree ({}): {}'.format(m,G.node[key]['coords']))\n",
    "        break"
   ]
  },
  {
   "cell_type": "markdown",
   "metadata": {},
   "source": [
    "## The algorithm\n",
    "\n",
    "Take two random nodes, and their neighborhoods. Take one neighborhood as sink, one as source. Calculate max flow between them and increase capacity of roads used, decreasing capacity of others to normalize. Repeat."
   ]
  },
  {
   "cell_type": "code",
   "execution_count": null,
   "metadata": {
    "collapsed": true
   },
   "outputs": [],
   "source": [
    "def euclid_dist(n1, n2):\n",
    "    \"\"\"Pythagoras\"\"\"\n",
    "    return ((n1[0] - n2[0])**2 + (n1[1] - n2[1])**2 ) **.5\n",
    "\n",
    "def max_flow_neighborhood(G, sourcecoords=None, sinkcoords=None, radius=1, flowattr='flow'):\n",
    "    \"\"\"\n",
    "    Takes a graph, and chooses a source and sink randomly unless gives. Calcluates and returns \n",
    "    max flow between source and sink.\n",
    "    \"\"\"\n",
    "    assert (sourcecoords is None and sinkcoords is None) or (sourcecoords and sinkcoords), \"Either both source and sink have to be given, or neither.\"\n",
    "    \n",
    "    if sourcecoords is None:\n",
    "        dist = float('-inf')\n",
    "        while dist < radius * 2:\n",
    "            sourcecenter = random.choice(list(G.nodes))\n",
    "            sourcecoords = G.node[sourcecenter]['coords']\n",
    "\n",
    "            sinkcenter = random.choice(list(G.nodes))\n",
    "            sinkcoords = G.node[sinkcenter]['coords']\n",
    "\n",
    "            dist = euclid_dist(sourcecoords, sinkcoords)\n",
    "    else:\n",
    "        assert euclid_dist(sourcecoords, sinkcoords) > radius * 2, \"Source and sink ranges overlap.\"\n",
    "                \n",
    "    G.add_node('SOURCE')\n",
    "    G.add_node('SINK')\n",
    "\n",
    "    for node in G:\n",
    "        if node == 'SOURCE' or node == 'SINK':\n",
    "            continue\n",
    "        if euclid_dist(G.node[node]['coords'], sourcecoords) < radius:\n",
    "            G.add_edge('SOURCE', node, flowattr = 10**20) # infinite, but float('inf') might not work\n",
    "        if euclid_dist(G.node[node]['coords'], sinkcoords) < radius:\n",
    "            G.add_edge('SINK', node, flowattr = 10**20)\n",
    "            \n",
    "    max_flow, flow = nx.maximum_flow(G, 'SOURCE', 'SINK', capacity=flowattr)\n",
    "    G.remove_node('SINK')\n",
    "    G.remove_node('SOURCE')\n",
    "    return max_flow, flow\n",
    "    "
   ]
  },
  {
   "cell_type": "code",
   "execution_count": null,
   "metadata": {
    "collapsed": true,
    "scrolled": true
   },
   "outputs": [],
   "source": [
    "def max_flow_iteration(G, N, inc_ratio_func, radius=1, flowattr='flow', copy=True, continent_name=\"Australia\"):\n",
    "    \"\"\"\n",
    "    Calls max_flow_neighborhood N times, using the flow to increase capacity\n",
    "    of roads of which flow was used, and normalizes. Returns the max flow of\n",
    "    each iteration and the resulting graph.\n",
    "    \"\"\"\n",
    "    if copy:\n",
    "        G = deepcopy(G)\n",
    "\n",
    "    max_flow_prog = []\n",
    "    for n in tqdm(range(N)):\n",
    "        if not n % 200:\n",
    "            save_graph(G, continent_name, str(n))\n",
    "        \n",
    "        max_flow, flow = max_flow_neighborhood(G)\n",
    "        max_flow_prog.append(max_flow)\n",
    "        \n",
    "        done = set()\n",
    "        \n",
    "        for key1 in flow:\n",
    "            if key1 in ['SOURCE', 'SINK']:\n",
    "                continue\n",
    "            for key2 in flow[key1]:\n",
    "                if key2 in ['SOURCE', 'SINK'] or (key2, key1) in done:\n",
    "                    continue\n",
    "                f = flow[key1][key2]\n",
    "                if f > 0:\n",
    "                    max_flow = G[key1][key2]['flow']\n",
    "                    G[key1][key2]['flow'] += inc_ratio_func(n) * f / max_flow\n",
    "                done.add((key1, key2))\n",
    "        flows = nx.get_edge_attributes(G, 'flow')\n",
    "        frac = sum(flows.values()) / len(flows)\n",
    "        flows.update((x,y/frac) for x, y in flows.items())\n",
    "        nx.set_edge_attributes(G, flows, 'flow')\n",
    "    \n",
    "    save_graph(G, continent_name, \"FinalResult\")\n",
    "    return max_flow_prog, G\n",
    "\n",
    "def save_graph(G, name, it):\n",
    "    if not os.path.exists('Graph_GPickles'):\n",
    "        os.makedirs('Graph_GPickles')\n",
    "    nx.write_gpickle(G, \"./Graph_GPickles/{}_{}.gpickle\".format(name, it))"
   ]
  },
  {
   "cell_type": "markdown",
   "metadata": {},
   "source": [
    "### This takes too long to run, so it's commented out and the results pre-saved\n",
    "\n",
    "Also it would save a lot of data to your computer"
   ]
  },
  {
   "cell_type": "code",
   "execution_count": null,
   "metadata": {
    "collapsed": false
   },
   "outputs": [],
   "source": [
    "#continent = \"Australia\"\n",
    "#a, resulting_graph = max_flow_iteration(G, 10000, lambda x: 1/(5+x/100), continent_name = continent)\n",
    "\n",
    "#with open('./Graph_Gpickles/{}_MaxFlowList.pkl'.format(continent), 'wb') as f:\n",
    "#    pickle.dump(a, f)\n",
    "\n",
    "a = pickle.load(open(\"australia_MaxFlowList.pkl\", \"rb\"))\n",
    "resulting_graph = pickle.load(open(\"australia_FinalResult.gpickle\", \"rb\"))"
   ]
  },
  {
   "cell_type": "code",
   "execution_count": null,
   "metadata": {
    "collapsed": false,
    "scrolled": true
   },
   "outputs": [],
   "source": [
    "steps = 20\n",
    "x = np.arange(len(a))[::steps]\n",
    "\n",
    "ymean = [np.mean(a[k:k+steps]) for k in x]\n",
    "\n",
    "plt.figure()\n",
    "plt.plot(a)\n",
    "plt.plot(x, ymean)\n",
    "plt.xlabel(\"iteration\")\n",
    "plt.ylabel(\"maxflow\")\n",
    "plt.show()"
   ]
  },
  {
   "cell_type": "code",
   "execution_count": null,
   "metadata": {
    "collapsed": false,
    "scrolled": true
   },
   "outputs": [],
   "source": [
    "def plot_graph(G, weight_attr='flow'):\n",
    "    \"\"\"Plot networkx graph. Whereby position is given by coords attribute\"\"\"\n",
    "    plt.figure()\n",
    "\n",
    "    # positions for all nodes\n",
    "    pos = nx.get_node_attributes(G, \"coords\")\n",
    "\n",
    "    # nodes\n",
    "    nx.draw_networkx_nodes(G, pos = pos, node_size=1, node_color='r', node_shape='v')\n",
    "\n",
    "    # colour edges based on their weights\n",
    "    edges, weights = zip(*nx.get_edge_attributes(G,weight_attr).items())\n",
    "    nx.draw_networkx_edges(G, pos = pos, edgelist=edges, edge_color=weights, width=1, edge_cmap=plt.cm.Blues)\n",
    "    #nx.draw(G, pos = pos)\n",
    "\n",
    "    #small_df.plot()\n",
    "    plt.show()\n",
    "plot_graph(resulting_graph)"
   ]
  },
  {
   "cell_type": "code",
   "execution_count": null,
   "metadata": {
    "collapsed": false
   },
   "outputs": [],
   "source": [
    "name = \"australia\"\n",
    "path = \"australia_FinalResult.gpickle\"\n",
    "\n",
    "G = nx.read_gpickle(path)\n",
    "flows = list(dict(nx.get_edge_attributes(G, 'flow')).values())\n",
    "print(\"variance:\", np.var(flows))\n",
    "plt.figure()\n",
    "plt.hist(flows, bins = 24, range=(0,6))\n",
    "plt.title(name)\n",
    "plt.xlabel('Capacity')\n",
    "plt.ylabel('Number of roads')\n",
    "plt.show()"
   ]
  },
  {
   "cell_type": "code",
   "execution_count": null,
   "metadata": {
    "collapsed": true
   },
   "outputs": [],
   "source": []
  }
 ],
 "metadata": {
  "anaconda-cloud": {},
  "kernelspec": {
   "display_name": "Python [ml1labs]",
   "language": "python",
   "name": "Python [ml1labs]"
  },
  "language_info": {
   "codemirror_mode": {
    "name": "ipython",
    "version": 3
   },
   "file_extension": ".py",
   "mimetype": "text/x-python",
   "name": "python",
   "nbconvert_exporter": "python",
   "pygments_lexer": "ipython3",
   "version": "3.6.2"
  }
 },
 "nbformat": 4,
 "nbformat_minor": 2
}
